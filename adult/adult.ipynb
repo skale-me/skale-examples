{
 "cells": [
  {
   "cell_type": "markdown",
   "metadata": {},
   "source": [
    "# Adult Income Dataset analysis with Skale "
   ]
  },
  {
   "cell_type": "markdown",
   "metadata": {},
   "source": [
    "This notebook demonstrates how to use Skale to process the data set from Adult Data Set MLR which \n",
    "contains income data for about 32000 people. The ultimate goal is to see how well we can predict \n",
    "if a person will make more than $50K a year, given data like education, gender and martial status.\n",
    "\n",
    "To achieve this goal we will:\n",
    "- Run an ETL operation on the raw data to obtain label and features from it\n",
    "- Build a machine learning model using the refined data (a logistic regression)\n",
    "- Evaluate the performance of our model using a cross-validation technique"
   ]
  },
  {
   "cell_type": "markdown",
   "metadata": {},
   "source": [
    "We will need the following npm packages."
   ]
  },
  {
   "cell_type": "code",
   "execution_count": 1,
   "metadata": {
    "collapsed": false
   },
   "outputs": [],
   "source": [
    "var sc = require('skale-engine').context();\n",
    "var co = require('co');\n",
    "var plot = require('plotter').plot;"
   ]
  },
  {
   "cell_type": "markdown",
   "metadata": {},
   "source": [
    "We will use the following machine learning capabilities."
   ]
  },
  {
   "cell_type": "code",
   "execution_count": 2,
   "metadata": {
    "collapsed": false
   },
   "outputs": [],
   "source": [
    "var StandardScaler = require('skale-ml').StandardScaler;\n",
    "var LogisticRegressionWithSGD = require('skale-ml').LogisticRegressionWithSGD;\n",
    "var BinaryClassificationMetrics = require('skale-ml').BinaryClassificationMetrics;"
   ]
  },
  {
   "cell_type": "markdown",
   "metadata": {},
   "source": [
    "## Loading the data "
   ]
  },
  {
   "cell_type": "code",
   "execution_count": 3,
   "metadata": {
    "collapsed": false
   },
   "outputs": [],
   "source": [
    "var metadata = {\n",
    "\tworkclass: ['Private', 'Self-emp-not-inc', 'Self-emp-inc', 'Federal-gov', 'Local-gov', 'State-gov', 'Without-pay', 'Never-worked'],\n",
    "\teducation: ['Bachelors', 'Some-college', '11th', 'HS-grad', 'Prof-school', 'Assoc-acdm', 'Assoc-voc', '9th', '7th-8th', '12th', 'Masters', '1st-4th', '10th', 'Doctorate', '5th-6th', 'Preschool'],\n",
    "\tmaritalstatus: ['Married-civ-spouse', 'Divorced', 'Never-married', 'Separated', 'Widowed', 'Married-spouse-absent', 'Married-AF-spouse'],\n",
    "\toccupation: ['Tech-support', 'Craft-repair', 'Other-service', 'Sales', 'Exec-managerial', 'Prof-specialty', 'Handlers-cleaners', 'Machine-op-inspct', 'Adm-clerical', 'Farming-fishing', 'Transport-moving', 'Priv-house-serv', 'Protective-serv', 'Armed-Forces'],\n",
    "\trelationship: ['Wife', 'Own-child', 'Husband', 'Not-in-family', 'Other-relative', 'Unmarried'],\n",
    "\trace: ['White', 'Asian-Pac-Islander', 'Amer-Indian-Eskimo', 'Other', 'Black'],\n",
    "\tsex: ['Female', 'Male'],\n",
    "\tnativecountry: ['United-States', 'Cambodia', 'England', 'Puerto-Rico', 'Canada', 'Germany', 'Outlying-US(Guam-USVI-etc)', 'India', 'Japan', 'Greece', 'South', 'China', 'Cuba', 'Iran', 'Honduras', 'Philippines', 'Italy', 'Poland', 'Jamaica', 'Vietnam', 'Mexico', 'Portugal', 'Ireland', 'France', 'Dominican-Republic', 'Laos', 'Ecuador', 'Taiwan', 'Haiti', 'Columbia', 'Hungary', 'Guatemala', 'Nicaragua', 'Scotland', 'Thailand', 'Yugoslavia', 'El-Salvador', 'Trinadad&Tobago', 'Peru', 'Hong', 'Holand-Netherlands']\n",
    "}"
   ]
  },
  {
   "cell_type": "code",
   "execution_count": 4,
   "metadata": {
    "collapsed": false
   },
   "outputs": [],
   "source": [
    "function featurize(data, metadata) {\n",
    "\tvar label = ((data[14] == '>50K') || (data[14] == '>50K.')) ? 1 : -1;\n",
    "\tvar features = [\n",
    "\t\tNumber(data[0]),\t\t\t\t\t\t\t\t// 1 age\n",
    "\t\tmetadata.workclass.indexOf(data[1]),\t\t\t// 2 workclass\n",
    "\t\tNumber(data[2]),\t\t\t\t\t\t\t\t// 3 fnlwgt\n",
    "\t\t// metadata.education.indexOf(data[3]),\t\t\t// education (redundant with education-num)\n",
    "\t\tNumber(data[4]),\t\t\t\t\t\t\t\t// 4 education-num\n",
    "\t\tmetadata.maritalstatus.indexOf(data[5]),\t\t// 5 marital-status\n",
    "\t\tmetadata.occupation.indexOf(data[6]),\t\t\t// 6 occupation\t\n",
    "\t\tmetadata.relationship.indexOf(data[7]),\t\t\t// 7 relationship\t\n",
    "\t\tmetadata.race.indexOf(data[8]),\t\t\t\t\t// 8 race\n",
    "\t\tmetadata.sex.indexOf(data[9]),\t\t\t\t\t// 9 sex\t\n",
    "\t\tNumber(data[10]),\t\t\t\t\t\t\t\t// 10 capital-gain\n",
    "\t\tNumber(data[11]),\t\t\t\t\t\t\t\t// 11 capital-loss\n",
    "\t\tNumber(data[12]),\t\t\t\t\t\t\t\t// 12 hours-per-week\n",
    "\t\tmetadata.nativecountry.indexOf(data[13])\t\t// 13 native-country\n",
    "\t];\n",
    "\treturn [label, features];\n",
    "}"
   ]
  },
  {
   "cell_type": "code",
   "execution_count": 5,
   "metadata": {
    "collapsed": false
   },
   "outputs": [],
   "source": [
    "var training_set = sc.textFile('adult.data')\n",
    "\t.map(line => line.split(',').map(str => str.trim()))\t\t// split csv lines\n",
    "\t.filter(data => data.indexOf('?') == -1)\t\t\t\t\t// remove incomplete data\n",
    "\t.map(featurize, metadata)\t\t\t\t\t\t\t\t\t// transform string data to number\n",
    "\t.persist();\n",
    "\n",
    "var test_set = sc.textFile('adult.test')\n",
    "\t.map(line => line.split(',').map(str => str.trim()))\t\t// split csv lines\n",
    "\t.filter(data => data.indexOf('?') == -1)\t\t\t\t\t// remove incomplete data\n",
    "\t.map(featurize, metadata);\t\t\t\t\t\t\t\t\t// transform string data to number"
   ]
  },
  {
   "cell_type": "code",
   "execution_count": 6,
   "metadata": {
    "collapsed": false
   },
   "outputs": [],
   "source": [
    "// Wrap asynchronous code in co to limit callback hell (ES7 async/await will fix this !)\n",
    "co(function* () {\n",
    "\t// Standardize features to zero mean and unit variance\n",
    "\tvar scaler = new StandardScaler();\n",
    "\n",
    "\tyield scaler.fit(training_set.map(point => point[1]));\t\t\t// async !!\n",
    "\n",
    "\t// Use scaler to standardize training and test datasets\n",
    "\tvar training_set_std = training_set\n",
    "\t\t.map((p, args) => [p[0], args.scaler.transform(p[1])], {scaler: scaler})\n",
    "\t\t.persist();\n",
    "\n",
    "\tvar test_set_std = test_set\n",
    "\t\t.map((p, args) => [p[0], args.scaler.transform(p[1])], {scaler: scaler});\n",
    "\n",
    "\t// Train logistic regression with SGD on standardized training set\n",
    "\tvar nIterations = 10;\n",
    "\tvar parameters = {regParam: 0.01, stepSize: 1};\n",
    "\tvar model = new LogisticRegressionWithSGD(training_set_std, parameters);\n",
    "\n",
    "\tyield model.train(nIterations);\t\t\t\t\t\t\t\t\t// async !!\n",
    "\n",
    "\t// Evaluate classifier performance on standardized test set\n",
    "\tvar predictionAndLabels = test_set_std.map((p, args) => [args.model.predict(p[1]), p[0]], {model: model});\n",
    "\tvar metrics = new BinaryClassificationMetrics(predictionAndLabels);\n",
    "\n",
    "\tconsole.log('\\n# Receiver Operating characteristic (ROC)')\n",
    "\tvar roc = yield metrics.roc();\n",
    "\tconsole.log('\\nThreshold\\tSpecificity(FPR)\\tSensitivity(TPR)')\n",
    "\tfor (var i in roc)\n",
    "\t\tconsole.log(roc[i][0].toFixed(2) + '\\t' + roc[i][1][0].toFixed(2) + '\\t' + roc[i][1][1].toFixed(2));\n",
    "\n",
    "\t// Ploting ROC curve as roc.png\n",
    "\tvar xy = {};\n",
    "\tfor (var i in roc)\n",
    "\t\txy[roc[i][1][0].toFixed(2)] = roc[i][1][1].toFixed(2)\n",
    "\txy['0.00'] = '0.00';\n",
    "\tvar data = {};\n",
    "\tdata['regParam: ' + parameters.regParam + ', stepSize: ' + parameters.stepSize] = xy;\n",
    "\tdata['Random'] = {0 :0, 1 : 1};\n",
    "\tplot({\n",
    "\t\ttitle: 'Logistic Regression ROC Curve', \n",
    "\t\tdata: data, \n",
    "\t\tfilename: 'roc.png'\n",
    "\t\t//finish: function() {sc.end();}\n",
    "\t});\n",
    "});"
   ]
  },
  {
   "cell_type": "code",
   "execution_count": 7,
   "metadata": {
    "collapsed": false
   },
   "outputs": [
    {
     "data": {
      "image/png": "[encoded data removed]"
     },
     "execution_count": 7,
     "metadata": {},
     "output_type": "execute_result"
    },
    {
     "name": "stdout",
     "output_type": "stream",
     "text": [
      "\n",
      "# Receiver Operating characteristic (ROC)\n",
      "\n",
      "Threshold\tSpecificity(FPR)\tSensitivity(TPR)\n",
      "0.00\t1.00\t1.00\n",
      "0.10\t0.78\t1.00\n",
      "0.20\t0.63\t0.98\n",
      "0.30\t0.52\t0.97\n",
      "0.40\t0.44\t0.96\n",
      "0.50\t0.37\t0.93\n",
      "0.60\t0.29\t0.89\n",
      "0.70\t0.22\t0.80\n",
      "0.80\t0.13\t0.66\n",
      "0.90\t0.06\t0.44\n",
      "stdout: \n",
      "stderr: \n"
     ]
    }
   ],
   "source": [
    "$$png$$ = require(\"fs\").readFileSync(\"roc.png\").toString(\"base64\");"
   ]
  }
 ],
 "metadata": {
  "kernelspec": {
   "display_name": "Javascript (Node.js)",
   "language": "javascript",
   "name": "javascript"
  },
  "language_info": {
   "file_extension": ".js",
   "mimetype": "application/javascript",
   "name": "javascript",
   "version": "4.1.2"
  }
 },
 "nbformat": 4,
 "nbformat_minor": 0
}
