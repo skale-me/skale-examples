{
 "cells": [
  {
   "cell_type": "markdown",
   "metadata": {},
   "source": [
    "# Processing Adult Income Dataset with Skale"
   ]
  },
  {
   "cell_type": "markdown",
   "metadata": {},
   "source": [
    "This notebook will show how we can use Skale to process the Adult Income Dataset. \n",
    "\n",
    "First, we will see how to load and explore the raw data. Finally we will build and evaluate the performance of a logistic regression classifier to predict if an adult earns more or less than 50K a year.\n",
    "\n",
    "Let's require some libraries:"
   ]
  },
  {
   "cell_type": "code",
   "execution_count": 1,
   "metadata": {
    "collapsed": false
   },
   "outputs": [
    {
     "data": {
      "text/plain": [
       "undefined"
      ]
     },
     "execution_count": 1,
     "metadata": {},
     "output_type": "execute_result"
    }
   ],
   "source": [
    "var co = require('co');\n",
    "var sc = require('skale-engine').context();\n",
    "var plot = require('plotter').plot;\n",
    "\n",
    "var CSVDataFrame = require('./CSVDataFrame.js');\n",
    "var StandardScaler = require('skale-ml').StandardScaler;\n",
    "var LogisticRegressionWithSGD = require('skale-ml').LogisticRegressionWithSGD;\n",
    "var BinaryClassificationMetrics = require('skale-ml').BinaryClassificationMetrics;"
   ]
  },
  {
   "cell_type": "markdown",
   "metadata": {},
   "source": [
    "# Loading the CSV file"
   ]
  },
  {
   "cell_type": "markdown",
   "metadata": {},
   "source": [
    "Our data is stored in a csv file named 'adult.data'.  Let's load it and show the first five rows."
   ]
  },
  {
   "cell_type": "code",
   "execution_count": 2,
   "metadata": {
    "collapsed": false
   },
   "outputs": [
    {
     "name": "stdout",
     "output_type": "stream",
     "text": [
      "┌────────────┬────────────┬────────────┬────────────┬────────────┬────────────┬────────────┬────────────┬────────────┬────────────┬────────────┬────────────┬────────────┬────────────┬────────────┐\n",
      "│ Age        │ Workclass  │ fnlwgt     │ Education  │ Education… │ Marital-S… │ Occupation │ Relations… │ Race       │ Sex        │ Capital-G… │ Capital-L… │ Hours-per… │ Country    │ Target     │\n",
      "├────────────┼────────────┼────────────┼────────────┼────────────┼────────────┼────────────┼────────────┼────────────┼────────────┼────────────┼────────────┼────────────┼────────────┼────────────┤\n",
      "│ 39         │ State-gov  │ 77516      │ Bachelors  │ 13         │ Never-mar… │ Adm-cleri… │ Not-in-fa… │ White      │ Male       │ 2174       │ 0          │ 40         │ United-St… │ <=50K      │\n",
      "├────────────┼────────────┼────────────┼────────────┼────────────┼────────────┼────────────┼────────────┼────────────┼────────────┼────────────┼────────────┼────────────┼────────────┼────────────┤\n",
      "│ 50         │ Self-emp-… │ 83311      │ Bachelors  │ 13         │ Married-c… │ Exec-mana… │ Husband    │ White      │ Male       │ 0          │ 0          │ 13         │ United-St… │ <=50K      │\n",
      "├────────────┼────────────┼────────────┼────────────┼────────────┼────────────┼────────────┼────────────┼────────────┼────────────┼────────────┼────────────┼────────────┼────────────┼────────────┤\n",
      "│ 38         │ Private    │ 215646     │ HS-grad    │ 9          │ Divorced   │ Handlers-… │ Not-in-fa… │ White      │ Male       │ 0          │ 0          │ 40         │ United-St… │ <=50K      │\n",
      "├────────────┼────────────┼────────────┼────────────┼────────────┼────────────┼────────────┼────────────┼────────────┼────────────┼────────────┼────────────┼────────────┼────────────┼────────────┤\n",
      "│ 53         │ Private    │ 234721     │ 11th       │ 7          │ Married-c… │ Handlers-… │ Husband    │ Black      │ Male       │ 0          │ 0          │ 40         │ United-St… │ <=50K      │\n",
      "├────────────┼────────────┼────────────┼────────────┼────────────┼────────────┼────────────┼────────────┼────────────┼────────────┼────────────┼────────────┼────────────┼────────────┼────────────┤\n",
      "│ 28         │ Private    │ 338409     │ Bachelors  │ 13         │ Married-c… │ Prof-spec… │ Wife       │ Black      │ Female     │ 0          │ 0          │ 40         │ Cuba       │ <=50K      │\n",
      "└────────────┴────────────┴────────────┴────────────┴────────────┴────────────┴────────────┴────────────┴────────────┴────────────┴────────────┴────────────┴────────────┴────────────┴────────────┘\n"
     ]
    },
    {
     "data": {
      "text/plain": [
       "null"
      ]
     },
     "execution_count": 2,
     "metadata": {},
     "output_type": "execute_result"
    }
   ],
   "source": [
    "var fields = [\n",
    "    \"Age\", \"Workclass\", \"fnlwgt\", \"Education\", \"Education-Num\", \"Marital-Status\", \n",
    "    \"Occupation\", \"Relationship\", \"Race\", \"Sex\", \"Capital-Gain\", \"Capital-Loss\", \n",
    "    \"Hours-per-week\", \"Country\", \"Target\"\n",
    "];\n",
    "var df = new CSVDataFrame(sc, fields, 'adult.data', ',', '?');\n",
    "$$async$$ = df.show(5, $$done$$)"
   ]
  },
  {
   "cell_type": "markdown",
   "metadata": {},
   "source": [
    "# Generating Age distribution as png files"
   ]
  },
  {
   "cell_type": "code",
   "execution_count": 3,
   "metadata": {
    "collapsed": false
   },
   "outputs": [
    {
     "name": "stdout",
     "output_type": "stream",
     "text": [
      "Creating Age.png\n"
     ]
    },
    {
     "data": {
      "text/plain": [
       "null"
      ]
     },
     "execution_count": 3,
     "metadata": {},
     "output_type": "execute_result"
    }
   ],
   "source": [
    "$$async$$ = df.describe(\"Age\", $$done$$);"
   ]
  },
  {
   "cell_type": "markdown",
   "metadata": {},
   "source": [
    "![title](Age.png)"
   ]
  },
  {
   "cell_type": "markdown",
   "metadata": {},
   "source": [
    "# Encoding the categorical features"
   ]
  },
  {
   "cell_type": "code",
   "execution_count": 4,
   "metadata": {
    "collapsed": false
   },
   "outputs": [
    {
     "name": "stdout",
     "output_type": "stream",
     "text": [
      "┌────────────┬────────────┬────────────┬────────────┬────────────┬────────────┬────────────┬────────────┬────────────┬────────────┬────────────┬────────────┬────────────┬────────────┬────────────┐\n",
      "│ Age        │ Workclass  │ fnlwgt     │ Education  │ Education… │ Marital-S… │ Occupation │ Relations… │ Race       │ Sex        │ Capital-G… │ Capital-L… │ Hours-per… │ Country    │ Target     │\n",
      "├────────────┼────────────┼────────────┼────────────┼────────────┼────────────┼────────────┼────────────┼────────────┼────────────┼────────────┼────────────┼────────────┼────────────┼────────────┤\n",
      "│ 39         │ 0          │ 77516      │ 0          │ 13         │ 0          │ 0          │ 0          │ 0          │ 0          │ 2174       │ 0          │ 40         │ 0          │ 0          │\n",
      "├────────────┼────────────┼────────────┼────────────┼────────────┼────────────┼────────────┼────────────┼────────────┼────────────┼────────────┼────────────┼────────────┼────────────┼────────────┤\n",
      "│ 50         │ 1          │ 83311      │ 0          │ 13         │ 1          │ 1          │ 1          │ 0          │ 0          │ 0          │ 0          │ 13         │ 0          │ 0          │\n",
      "├────────────┼────────────┼────────────┼────────────┼────────────┼────────────┼────────────┼────────────┼────────────┼────────────┼────────────┼────────────┼────────────┼────────────┼────────────┤\n",
      "│ 38         │ 2          │ 215646     │ 1          │ 9          │ 2          │ 2          │ 0          │ 0          │ 0          │ 0          │ 0          │ 40         │ 0          │ 0          │\n",
      "├────────────┼────────────┼────────────┼────────────┼────────────┼────────────┼────────────┼────────────┼────────────┼────────────┼────────────┼────────────┼────────────┼────────────┼────────────┤\n",
      "│ 53         │ 2          │ 234721     │ 2          │ 7          │ 1          │ 2          │ 1          │ 1          │ 0          │ 0          │ 0          │ 40         │ 0          │ 0          │\n",
      "├────────────┼────────────┼────────────┼────────────┼────────────┼────────────┼────────────┼────────────┼────────────┼────────────┼────────────┼────────────┼────────────┼────────────┼────────────┤\n",
      "│ 28         │ 2          │ 338409     │ 0          │ 13         │ 1          │ 3          │ 2          │ 1          │ 1          │ 0          │ 0          │ 40         │ 1          │ 0          │\n",
      "└────────────┴────────────┴────────────┴────────────┴────────────┴────────────┴────────────┴────────────┴────────────┴────────────┴────────────┴────────────┴────────────┴────────────┴────────────┘\n"
     ]
    },
    {
     "data": {
      "text/plain": [
       "null"
      ]
     },
     "execution_count": 4,
     "metadata": {},
     "output_type": "execute_result"
    }
   ],
   "source": [
    "var edf = df.number_encode_features()\n",
    "$$async$$ = edf.show(5, $$done$$);"
   ]
  },
  {
   "cell_type": "markdown",
   "metadata": {},
   "source": [
    "# Correlation between Education and Education-Num'"
   ]
  },
  {
   "cell_type": "code",
   "execution_count": 6,
   "metadata": {
    "collapsed": false
   },
   "outputs": [
    {
     "name": "stdout",
     "output_type": "stream",
     "text": [
      "┌────────────┬────────────┐\n",
      "│ Education  │ Education… │\n",
      "├────────────┼────────────┤\n",
      "│ Bachelors  │ 13         │\n",
      "├────────────┼────────────┤\n",
      "│ Bachelors  │ 13         │\n",
      "├────────────┼────────────┤\n",
      "│ HS-grad    │ 9          │\n",
      "├────────────┼────────────┤\n",
      "│ 11th       │ 7          │\n",
      "├────────────┼────────────┤\n",
      "│ Bachelors  │ 13         │\n",
      "├────────────┼────────────┤\n",
      "│ Masters    │ 14         │\n",
      "├────────────┼────────────┤\n",
      "│ 9th        │ 5          │\n",
      "├────────────┼────────────┤\n",
      "│ HS-grad    │ 9          │\n",
      "├────────────┼────────────┤\n",
      "│ Masters    │ 14         │\n",
      "├────────────┼────────────┤\n",
      "│ Bachelors  │ 13         │\n",
      "├────────────┼────────────┤\n",
      "│ Some-coll… │ 10         │\n",
      "├────────────┼────────────┤\n",
      "│ Bachelors  │ 13         │\n",
      "├────────────┼────────────┤\n",
      "│ Bachelors  │ 13         │\n",
      "├────────────┼────────────┤\n",
      "│ Assoc-acdm │ 12         │\n",
      "├────────────┼────────────┤\n",
      "│ 7th-8th    │ 4          │\n",
      "└────────────┴────────────┘\n"
     ]
    },
    {
     "data": {
      "text/plain": [
       "null"
      ]
     },
     "execution_count": 6,
     "metadata": {},
     "output_type": "execute_result"
    }
   ],
   "source": [
    "$$async$$ = df.select([\"Education\", \"Education-Num\"]).show(15, $$done$$);"
   ]
  },
  {
   "cell_type": "markdown",
   "metadata": {},
   "source": [
    "# Delete Education field from data frame"
   ]
  },
  {
   "cell_type": "code",
   "execution_count": 7,
   "metadata": {
    "collapsed": false
   },
   "outputs": [
    {
     "name": "stdout",
     "output_type": "stream",
     "text": [
      "┌────────────┬────────────┬────────────┬────────────┬────────────┬────────────┬────────────┬────────────┬────────────┬────────────┬────────────┬────────────┬────────────┬────────────┐\n",
      "│ Age        │ Workclass  │ fnlwgt     │ Education… │ Marital-S… │ Occupation │ Relations… │ Race       │ Sex        │ Capital-G… │ Capital-L… │ Hours-per… │ Country    │ Target     │\n",
      "├────────────┼────────────┼────────────┼────────────┼────────────┼────────────┼────────────┼────────────┼────────────┼────────────┼────────────┼────────────┼────────────┼────────────┤\n",
      "│ 39         │ 0          │ 77516      │ 13         │ 0          │ 0          │ 0          │ 0          │ 0          │ 2174       │ 0          │ 40         │ 0          │ 0          │\n",
      "├────────────┼────────────┼────────────┼────────────┼────────────┼────────────┼────────────┼────────────┼────────────┼────────────┼────────────┼────────────┼────────────┼────────────┤\n",
      "│ 50         │ 1          │ 83311      │ 13         │ 1          │ 1          │ 1          │ 0          │ 0          │ 0          │ 0          │ 13         │ 0          │ 0          │\n",
      "├────────────┼────────────┼────────────┼────────────┼────────────┼────────────┼────────────┼────────────┼────────────┼────────────┼────────────┼────────────┼────────────┼────────────┤\n",
      "│ 38         │ 2          │ 215646     │ 9          │ 2          │ 2          │ 0          │ 0          │ 0          │ 0          │ 0          │ 40         │ 0          │ 0          │\n",
      "├────────────┼────────────┼────────────┼────────────┼────────────┼────────────┼────────────┼────────────┼────────────┼────────────┼────────────┼────────────┼────────────┼────────────┤\n",
      "│ 53         │ 2          │ 234721     │ 7          │ 1          │ 2          │ 1          │ 1          │ 0          │ 0          │ 0          │ 40         │ 0          │ 0          │\n",
      "├────────────┼────────────┼────────────┼────────────┼────────────┼────────────┼────────────┼────────────┼────────────┼────────────┼────────────┼────────────┼────────────┼────────────┤\n",
      "│ 28         │ 2          │ 338409     │ 13         │ 1          │ 3          │ 2          │ 1          │ 1          │ 0          │ 0          │ 40         │ 1          │ 0          │\n",
      "└────────────┴────────────┴────────────┴────────────┴────────────┴────────────┴────────────┴────────────┴────────────┴────────────┴────────────┴────────────┴────────────┴────────────┘\n"
     ]
    },
    {
     "data": {
      "text/plain": [
       "null"
      ]
     },
     "execution_count": 7,
     "metadata": {},
     "output_type": "execute_result"
    }
   ],
   "source": [
    "edf = edf.drop([\"Education\"]);\n",
    "$$async$$ = edf.show(5, $$done$$)"
   ]
  },
  {
   "cell_type": "markdown",
   "metadata": {},
   "source": [
    "# Correlation between Sex and Relationship"
   ]
  },
  {
   "cell_type": "code",
   "execution_count": 8,
   "metadata": {
    "collapsed": false
   },
   "outputs": [
    {
     "name": "stdout",
     "output_type": "stream",
     "text": [
      "┌────────────┬────────────┐\n",
      "│ Sex        │ Relations… │\n",
      "├────────────┼────────────┤\n",
      "│ Male       │ Not-in-fa… │\n",
      "├────────────┼────────────┤\n",
      "│ Male       │ Husband    │\n",
      "├────────────┼────────────┤\n",
      "│ Male       │ Not-in-fa… │\n",
      "├────────────┼────────────┤\n",
      "│ Male       │ Husband    │\n",
      "├────────────┼────────────┤\n",
      "│ Female     │ Wife       │\n",
      "└────────────┴────────────┘\n"
     ]
    },
    {
     "data": {
      "text/plain": [
       "null"
      ]
     },
     "execution_count": 8,
     "metadata": {},
     "output_type": "execute_result"
    }
   ],
   "source": [
    "$$async$$ = df.select([\"Sex\", \"Relationship\"]).show(5, $$done$$);"
   ]
  },
  {
   "cell_type": "markdown",
   "metadata": {},
   "source": [
    "# Extract a LabeledPoint Dataset from our encoded Data Frame"
   ]
  },
  {
   "cell_type": "code",
   "execution_count": 9,
   "metadata": {
    "collapsed": false
   },
   "outputs": [
    {
     "data": {
      "text/plain": [
       "undefined"
      ]
     },
     "execution_count": 9,
     "metadata": {},
     "output_type": "execute_result"
    }
   ],
   "source": [
    "var training_set = edf.toLabeledPoint(\"Target\", [\"*\"]);"
   ]
  },
  {
   "cell_type": "markdown",
   "metadata": {},
   "source": [
    "# Scale features to zero-mean, unit variance"
   ]
  },
  {
   "cell_type": "code",
   "execution_count": 10,
   "metadata": {
    "collapsed": false
   },
   "outputs": [
    {
     "data": {
      "text/plain": [
       "undefined"
      ]
     },
     "execution_count": 10,
     "metadata": {},
     "output_type": "execute_result"
    }
   ],
   "source": [
    "var scaler = new StandardScaler();\n",
    "var training_set_std;\n",
    "$$async$$ = scaler.fit(training_set.map(p => p[1]), function() {\n",
    "    training_set_std = training_set.map((p, scaler) => [p[0], scaler.transform(p[1])], scaler).persist();\n",
    "    $$done$$();\n",
    "});"
   ]
  },
  {
   "cell_type": "markdown",
   "metadata": {},
   "source": [
    "# Train logistic regression with SGD on standardized training set"
   ]
  },
  {
   "cell_type": "code",
   "execution_count": 11,
   "metadata": {
    "collapsed": false
   },
   "outputs": [
    {
     "data": {
      "text/plain": [
       "null"
      ]
     },
     "execution_count": 11,
     "metadata": {},
     "output_type": "execute_result"
    }
   ],
   "source": [
    "var nIterations = 10;\n",
    "var parameters = {regParam: 0.01, stepSize: 1};\n",
    "var model = new LogisticRegressionWithSGD(training_set_std, parameters);\n",
    "\n",
    "$$async$$ = model.train(nIterations, $$done$$);"
   ]
  },
  {
   "cell_type": "markdown",
   "metadata": {},
   "source": [
    "# Cross validate on test set and generate ROC curve"
   ]
  },
  {
   "cell_type": "code",
   "execution_count": 12,
   "metadata": {
    "collapsed": false
   },
   "outputs": [
    {
     "data": {
      "text/plain": [
       "null"
      ]
     },
     "execution_count": 12,
     "metadata": {},
     "output_type": "execute_result"
    }
   ],
   "source": [
    "var vdf = new CSVDataFrame(sc, fields, 'adult.test', ',', '?');\n",
    "var evdf = vdf.drop([\"Education\"]).number_encode_features();\n",
    "var test_set_std = evdf\n",
    "    .toLabeledPoint(\"Target\", [\"*\"])\n",
    "    .map((p, scaler) => [p[0], scaler.transform(p[1])], scaler);\n",
    "\n",
    "// var predictionAndLabels = training_set_std.map((p, model) => [model.predict(p[1]), p[0]], model);\n",
    "var predictionAndLabels = test_set_std.map((p, model) => [model.predict(p[1]), p[0]], model);\t\t\t// inverse label\n",
    "var metrics = new BinaryClassificationMetrics(predictionAndLabels);\n",
    "\n",
    "$$async$$ = metrics.roc(function(err, roc) {\n",
    "    var xy = {};\n",
    "    for (var i in roc) xy[roc[i][1][0].toFixed(2)] = roc[i][1][1].toFixed(2);\n",
    "    xy['0.00'] = '0.00';\n",
    "    var data = {};\n",
    "    data['regParam: ' + parameters.regParam + ', stepSize: ' + parameters.stepSize] = xy;\n",
    "    data['Random'] = {0 :0, 1 : 1};\n",
    "    plot({title: 'Logistic Regression ROC Curve', data: data, filename: 'roc.png', finish: $$done$$});    \n",
    "})"
   ]
  },
  {
   "cell_type": "markdown",
   "metadata": {},
   "source": [
    "![title](roc.png)"
   ]
  },
  {
   "cell_type": "code",
   "execution_count": 13,
   "metadata": {
    "collapsed": false
   },
   "outputs": [
    {
     "name": "stdout",
     "output_type": "stream",
     "text": [
      "[ 0.5892014010000115,\n",
      "  0.21493410060228174,\n",
      "  0.013819127163207047,\n",
      "  0.8530827599943013,\n",
      "  -0.014500366785590515,\n",
      "  -0.182481500630961,\n",
      "  -0.27119571075565263,\n",
      "  -0.12998625855212997,\n",
      "  -0.5131808211413618,\n",
      "  0.7271266998919182,\n",
      "  0.38625689011670966,\n",
      "  0.5014530789388013,\n",
      "  -0.03274029015397746 ]\n"
     ]
    },
    {
     "data": {
      "text/plain": [
       "undefined"
      ]
     },
     "execution_count": 13,
     "metadata": {},
     "output_type": "execute_result"
    }
   ],
   "source": [
    "console.log(model.weights)"
   ]
  },
  {
   "cell_type": "code",
   "execution_count": 18,
   "metadata": {
    "collapsed": false
   },
   "outputs": [
    {
     "name": "stdout",
     "output_type": "stream",
     "text": [
      "[ [ 0, 0.2456839309428951 ],\n",
      "  [ 0.1, 0.4063745019920319 ],\n",
      "  [ 0.2, 0.5415006640106241 ],\n",
      "  [ 0.30000000000000004, 0.6488047808764941 ],\n",
      "  [ 0.4, 0.7175298804780876 ],\n",
      "  [ 0.5, 0.7592961487383798 ],\n",
      "  [ 0.6000000000000001, 0.7865869853917663 ],\n",
      "  [ 0.7000000000000001, 0.800929614873838 ],\n",
      "  [ 0.8, 0.800199203187251 ],\n",
      "  [ 0.9, 0.7886454183266932 ] ]\n"
     ]
    },
    {
     "data": {
      "text/plain": [
       "undefined"
      ]
     },
     "execution_count": 18,
     "metadata": {},
     "output_type": "execute_result"
    }
   ],
   "source": [
    "$$async$$ = metrics.accuracyByThreshold(function(err, fscore) {\n",
    "    console.log(fscore)\n",
    "    $$done$$();\n",
    "})"
   ]
  },
  {
   "cell_type": "code",
   "execution_count": null,
   "metadata": {
    "collapsed": true
   },
   "outputs": [],
   "source": []
  }
 ],
 "metadata": {
  "kernelspec": {
   "display_name": "Javascript (Node.js)",
   "language": "javascript",
   "name": "javascript"
  },
  "language_info": {
   "file_extension": ".js",
   "mimetype": "application/javascript",
   "name": "javascript",
   "version": "4.1.2"
  }
 },
 "nbformat": 4,
 "nbformat_minor": 0
}
